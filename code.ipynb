{
  "nbformat": 4,
  "nbformat_minor": 0,
  "metadata": {
    "colab": {
      "provenance": []
    },
    "kernelspec": {
      "name": "python3",
      "display_name": "Python 3"
    },
    "language_info": {
      "name": "python"
    }
  },
  "cells": [
    {
      "cell_type": "markdown",
      "source": [
        "# Original Starter Code\n",
        "## Minimax for Tic Tac Toe Game"
      ],
      "metadata": {
        "id": "KkgKVpRIVZ5o"
      }
    },
    {
      "cell_type": "code",
      "source": [
        "nodesEvaluated =0\n",
        "# Python3 program to find the next optimal move for a player\n",
        "player, opponent = 'x', 'o'\n",
        "\n",
        "# This function returns true if there are moves\n",
        "# remaining on the board. It returns false if\n",
        "# there are no moves left to play.\n",
        "def isMovesLeft(board) :\n",
        "\n",
        "\tfor i in range(3) :\n",
        "\t\tfor j in range(3) :\n",
        "\t\t\tif (board[i][j] == '_') :\n",
        "\t\t\t\treturn True\n",
        "\treturn False\n",
        "\n",
        "# This is the evaluation function as discussed\n",
        "# in the previous article ( http://goo.gl/sJgv68 )\n",
        "def evaluate(b) :\n",
        "\n",
        "\t# Checking for Rows for X or O victory.\n",
        "\tfor row in range(3) :\n",
        "\t\tif (b[row][0] == b[row][1] and b[row][1] == b[row][2]) :\n",
        "\t\t\tif (b[row][0] == player) :\n",
        "\t\t\t\treturn 10\n",
        "\t\t\telif (b[row][0] == opponent) :\n",
        "\t\t\t\treturn -10\n",
        "\n",
        "\t# Checking for Columns for X or O victory.\n",
        "\tfor col in range(3) :\n",
        "\n",
        "\t\tif (b[0][col] == b[1][col] and b[1][col] == b[2][col]) :\n",
        "\n",
        "\t\t\tif (b[0][col] == player) :\n",
        "\t\t\t\treturn 10\n",
        "\t\t\telif (b[0][col] == opponent) :\n",
        "\t\t\t\treturn -10\n",
        "\n",
        "\t# Checking for Diagonals for X or O victory.\n",
        "\tif (b[0][0] == b[1][1] and b[1][1] == b[2][2]) :\n",
        "\n",
        "\t\tif (b[0][0] == player) :\n",
        "\t\t\treturn 10\n",
        "\t\telif (b[0][0] == opponent) :\n",
        "\t\t\treturn -10\n",
        "\n",
        "\tif (b[0][2] == b[1][1] and b[1][1] == b[2][0]) :\n",
        "\n",
        "\t\tif (b[0][2] == player) :\n",
        "\t\t\treturn 10\n",
        "\t\telif (b[0][2] == opponent) :\n",
        "\t\t\treturn -10\n",
        "\n",
        "\t# Else if none of them have won then return 0\n",
        "\treturn 0\n",
        "\n",
        "# This is the minimax function. It considers all\n",
        "# the possible ways the game can go and returns\n",
        "# the value of the board\n",
        "def minimax(board, depth, isMax) :\n",
        "\tglobal nodesEvaluated\n",
        "\tnodesEvaluated = nodesEvaluated+1\n",
        "\tscore = evaluate(board)\n",
        "\n",
        "\t# If Maximizer has won the game return his/her\n",
        "\t# evaluated score\n",
        "\tif (score == 10) :\n",
        "\t\treturn score\n",
        "\n",
        "\t# If Minimizer has won the game return his/her\n",
        "\t# evaluated score\n",
        "\tif (score == -10) :\n",
        "\t\treturn score\n",
        "\n",
        "\t# If there are no more moves and no winner then\n",
        "\t# it is a tie\n",
        "\tif (isMovesLeft(board) == False) :\n",
        "\t\treturn 0\n",
        "\n",
        "\t# If this maximizer's move\n",
        "\tif (isMax) :\n",
        "\t\tbest = -1000\n",
        "\n",
        "\t\t# Traverse all cells\n",
        "\t\tfor i in range(3) :\n",
        "\t\t\tfor j in range(3) :\n",
        "\n",
        "\t\t\t\t# Check if cell is empty\n",
        "\t\t\t\tif (board[i][j]=='_') :\n",
        "\n",
        "\t\t\t\t\t# Make the move\n",
        "\t\t\t\t\tboard[i][j] = player\n",
        "\n",
        "\t\t\t\t\t# Call minimax recursively and choose\n",
        "\t\t\t\t\t# the maximum value\n",
        "\t\t\t\t\tbest = max( best, minimax(board,\n",
        "\t\t\t\t\t\t\t\t\t\t\tdepth + 1,\n",
        "\t\t\t\t\t\t\t\t\t\t\tnot isMax) )\n",
        "\n",
        "\t\t\t\t\t# Undo the move\n",
        "\t\t\t\t\tboard[i][j] = '_'\n",
        "\t\treturn best\n",
        "\n",
        "\t# If this minimizer's move\n",
        "\telse :\n",
        "\t\tbest = 1000\n",
        "\n",
        "\t\t# Traverse all cells\n",
        "\t\tfor i in range(3) :\n",
        "\t\t\tfor j in range(3) :\n",
        "\n",
        "\t\t\t\t# Check if cell is empty\n",
        "\t\t\t\tif (board[i][j] == '_') :\n",
        "\n",
        "\t\t\t\t\t# Make the move\n",
        "\t\t\t\t\tboard[i][j] = opponent\n",
        "\n",
        "\t\t\t\t\t# Call minimax recursively and choose\n",
        "\t\t\t\t\t# the minimum value\n",
        "\t\t\t\t\tbest = min(best, minimax(board, depth + 1, not isMax))\n",
        "\n",
        "\t\t\t\t\t# Undo the move\n",
        "\t\t\t\t\tboard[i][j] = '_'\n",
        "\t\treturn best\n",
        "\n",
        "# This will return the best possible move for the player\n",
        "def findBestMove(board) :\n",
        "\tbestVal = -1000\n",
        "\tbestMove = (-1, -1)\n",
        "\n",
        "\t# Traverse all cells, evaluate minimax function for\n",
        "\t# all empty cells. And return the cell with optimal\n",
        "\t# value.\n",
        "\tfor i in range(3) :\n",
        "\t\tfor j in range(3) :\n",
        "\n",
        "\t\t\t# Check if cell is empty\n",
        "\t\t\tif (board[i][j] == '_') :\n",
        "\n",
        "\t\t\t\t# Make the move\n",
        "\t\t\t\tboard[i][j] = player\n",
        "\n",
        "\t\t\t\t# compute evaluation function for this\n",
        "\t\t\t\t# move.\n",
        "\t\t\t\tmoveVal = minimax(board, 0, False)\n",
        "\n",
        "\t\t\t\t# Undo the move\n",
        "\t\t\t\tboard[i][j] = '_'\n",
        "\n",
        "\t\t\t\t# If the value of the current move is\n",
        "\t\t\t\t# more than the best value, then update\n",
        "\t\t\t\t# best/\n",
        "\t\t\t\tif (moveVal > bestVal) :\n",
        "\t\t\t\t\tbestMove = (i, j)\n",
        "\t\t\t\t\tbestVal = moveVal\n",
        "\n",
        "\tprint(\"The value of the best Move is :\", bestVal)\n",
        "\tprint()\n",
        "\treturn bestMove\n",
        "# Driver code\n",
        "board = [['_', 'x', 'x'],\n",
        "           ['_', 'x', 'o'],\n",
        "           ['o', '_', 'o']\n",
        "          ];\n",
        "\n",
        "bestMove = findBestMove(board)\n",
        "\n",
        "print(\"The Optimal Move is :\")\n",
        "print(\"ROW:\", bestMove[0], \" COL:\", bestMove[1])\n",
        "print(f\"Number of nodes evaluated: {nodesEvaluated}\")\n",
        "\n",
        "\n",
        "# This code is contributed by divyesh072019"
      ],
      "metadata": {
        "colab": {
          "base_uri": "https://localhost:8080/"
        },
        "id": "rUfuQhb7VMYW",
        "outputId": "4728d8ed-4133-4f65-f100-bc47608dd0c5"
      },
      "execution_count": null,
      "outputs": [
        {
          "output_type": "stream",
          "name": "stdout",
          "text": [
            "The value of the best Move is : 10\n",
            "\n",
            "The Optimal Move is :\n",
            "ROW: 0  COL: 0\n",
            "Number of nodes evaluated: 6\n"
          ]
        }
      ]
    },
    {
      "cell_type": "markdown",
      "source": [
        "# Question 1\n",
        "## Tic Tac Toe with Alpha Beta Pruning"
      ],
      "metadata": {
        "id": "Cvrj00ThU4zP"
      }
    },
    {
      "cell_type": "code",
      "execution_count": null,
      "metadata": {
        "id": "M9B13rgZ52-q"
      },
      "outputs": [],
      "source": [
        "player = 'x'\n",
        "opponent = 'o'\n",
        "\n",
        "def isBoardFull(board):\n",
        "  for i in range(3):\n",
        "    for j in range(3):\n",
        "      if(board[i][j]=='_'):\n",
        "        return False\n",
        "  return True\n",
        "\n",
        "def isEmptyCell(board, row, col):\n",
        "  if (board[row][col]=='_'):\n",
        "    return True\n",
        "  return False"
      ]
    },
    {
      "cell_type": "code",
      "source": [
        "def evaluateVictory(b) :\n",
        "\n",
        "    for row in range(3) :\n",
        "        if (b[row][0] == b[row][1] and b[row][1] == b[row][2]) :\n",
        "            if (b[row][0] == player) :\n",
        "                return 10\n",
        "            elif (b[row][0] == opponent) :\n",
        "                return -10\n",
        "\n",
        "    for col in range(3) :\n",
        "\n",
        "        if (b[0][col] == b[1][col] and b[1][col] == b[2][col]) :\n",
        "\n",
        "            if (b[0][col] == player) :\n",
        "                return 10\n",
        "            elif (b[0][col] == opponent) :\n",
        "                return -10\n",
        "\n",
        "    if (b[0][0] == b[1][1] and b[1][1] == b[2][2]) :\n",
        "\n",
        "        if (b[0][0] == player) :\n",
        "            return 10\n",
        "        elif (b[0][0] == opponent) :\n",
        "            return -10\n",
        "    if (b[0][2] == b[1][1] and b[1][1] == b[2][0]) :\n",
        "\n",
        "        if (b[0][2] == player) :\n",
        "            return 10\n",
        "        elif (b[0][2] == opponent) :\n",
        "            return -10\n",
        "    return 0\n"
      ],
      "metadata": {
        "id": "C39Brt2B66_c"
      },
      "execution_count": null,
      "outputs": []
    },
    {
      "cell_type": "code",
      "source": [
        "nodesTraversed = 0\n",
        "\n",
        "from threading import Lock\n",
        "node_count_parallel = 0\n",
        "count_lock = Lock()\n",
        "\n",
        "def minimax_pruning(board, depth, isMax, alpha, beta):\n",
        "  score = evaluateVictory(board)\n",
        "\n",
        "  if score == 10:\n",
        "    return score-depth\n",
        "  if score == -10:\n",
        "    return score+depth\n",
        "  if isBoardFull(board):\n",
        "    return 0\n",
        "  global nodesTraversed\n",
        "  nodesTraversed = nodesTraversed + 1\n",
        "\n",
        "  global node_count_parallel\n",
        "  with count_lock:\n",
        "    node_count_parallel += 1\n",
        "\n",
        "  if isMax :\n",
        "    best = -1000\n",
        "    for i in range(3):\n",
        "      for j in range(3):\n",
        "        if (isEmptyCell(board, i, j)):\n",
        "          board[i][j] = player\n",
        "          # player x tries to maximize considering that the opponent plays next\n",
        "          best = max(best, minimax_pruning(board, depth + 1, not isMax, alpha, beta))\n",
        "          alpha =max(alpha, best)\n",
        "          board[i][j] = '_'\n",
        "          #prune the branches if\n",
        "          if beta<=alpha:\n",
        "            break\n",
        "    return best\n",
        "\n",
        "  else:\n",
        "    best = 1000\n",
        "    for i in range(3):\n",
        "      for j in range(3):\n",
        "        if(isEmptyCell(board, i, j)):\n",
        "          board[i][j]=opponent\n",
        "          best = min(best, minimax_pruning(board, depth+1, not isMax, alpha, beta))\n",
        "          beta=min(beta, best)\n",
        "          board[i][j]='_'\n",
        "          if beta<=alpha:\n",
        "            break\n",
        "    return best\n",
        "\n"
      ],
      "metadata": {
        "id": "FHoEMwtc7PQ0"
      },
      "execution_count": null,
      "outputs": []
    },
    {
      "cell_type": "markdown",
      "source": [
        "- If the current call is with `isMax = True` (maximizer's turn), the recursive call is made with `not isMax`, which is `False`, to simulate the minimizer's turn next.\n",
        "- Conversely, if the current call is with `isMax = False` (minimizer's turn), the recursive call is made with `not isMax`, which is `True`, to return to the maximizer's turn."
      ],
      "metadata": {
        "id": "xQyq_c74PM96"
      }
    },
    {
      "cell_type": "code",
      "source": [
        "def findBestMove(board):\n",
        "  best = -1000\n",
        "  bestMove = None\n",
        "  alpha = -1000\n",
        "  beta = 1000\n",
        "\n",
        "  for i in range(3):\n",
        "    for j in range(3):\n",
        "      if(isEmptyCell(board,i, j)):\n",
        "        board[i][j]=player\n",
        "        move_value=minimax_pruning(board, 0, False, alpha, beta)\n",
        "        board[i][j]='_'\n",
        "        if move_value > best:\n",
        "          best = move_value\n",
        "          bestMove = (i, j)\n",
        "          alpha = max(alpha, best)\n",
        "  print(\"The value of the best move is: \", best)\n",
        "  print()\n",
        "  return bestMove\n"
      ],
      "metadata": {
        "id": "I0g05s51PcxH"
      },
      "execution_count": null,
      "outputs": []
    },
    {
      "cell_type": "code",
      "source": [
        "def printBestMove(bestMove):\n",
        "  print(f\"Row: {bestMove[0]}, Column: {bestMove[1]}\")\n",
        "\n",
        "import time\n",
        "\n",
        "def playGame():\n",
        "  board = [['_', '_', 'x'],\n",
        "           ['_', 'x', 'o'],\n",
        "           ['o', '_', '_']\n",
        "          ];\n",
        "  start_time_serial = time.time();\n",
        "  bestMove = findBestMove(board)\n",
        "  end_time_serial = time.time();\n",
        "  print(\"The optimal move is: \")\n",
        "  printBestMove(bestMove)\n",
        "  print(f\"Number of nodes traversed serially: {nodesTraversed}\")\n",
        "  time_taken_serial = end_time_serial - start_time_serial\n",
        "  print(f\"The serial operation took {time_taken_serial} seconds.\")\n",
        "\n",
        "#main code\n",
        "playGame()"
      ],
      "metadata": {
        "colab": {
          "base_uri": "https://localhost:8080/"
        },
        "id": "BQzX3-XkRNjL",
        "outputId": "82a6d58d-c213-423f-f261-24d60940894d"
      },
      "execution_count": null,
      "outputs": [
        {
          "output_type": "stream",
          "name": "stdout",
          "text": [
            "The value of the best move is:  8\n",
            "\n",
            "The optimal move is: \n",
            "Row: 0, Column: 0\n",
            "Number of nodes traversed serially: 81\n",
            "The serial operation took 0.0024275779724121094 seconds.\n"
          ]
        }
      ]
    },
    {
      "cell_type": "markdown",
      "source": [
        "# Question 2\n",
        "### **Part 1**: Comparison of Minimax with Alpha Beta Pruning and Without Alpha Beta Pruning\n"
      ],
      "metadata": {
        "id": "p-6qPVpxYiBJ"
      }
    },
    {
      "cell_type": "code",
      "source": [
        "# game board for first run\n",
        "board1 = [['x', 'o', 'x'],\n",
        "           ['o', 'o', 'x'],\n",
        "           ['_', '_', '_']\n",
        "          ];\n",
        "\n",
        "# game board for second run\n",
        "board2 = [['_', '_', 'x'],\n",
        "           ['_', 'x', 'o'],\n",
        "           ['o', '_', '_']\n",
        "          ];\n",
        "\n",
        "# game board for third run\n",
        "board3 = [['_', 'x', 'x'],\n",
        "           ['_', 'x', 'o'],\n",
        "           ['o', '_', 'o']\n",
        "          ];\n"
      ],
      "metadata": {
        "id": "fglRCML6ZFUG"
      },
      "execution_count": null,
      "outputs": []
    },
    {
      "cell_type": "markdown",
      "source": [
        "| No. of nodes evaluated | Without Alpha-Beta Pruning |      |      |         | With Alpha-Beta Pruning |      |      |         |\n",
        "|------------------------|----------------------------|------|------|---------|-------------------------|------|------|---------|\n",
        "|| Run1 | Run2 | Run3 | Average | Run1| Run2 | Run3 | Average |\n",
        "||||||||||\n",
        "|                        | 10                         | 237  | 6    | 84.33   | 6                       | 81    | 3    | 30       |\n"
      ],
      "metadata": {
        "id": "l9cWLqgHdlSh"
      }
    },
    {
      "cell_type": "markdown",
      "source": [
        "###**Part 2**: Parallelized Apha Beta Pruning and its comparison with Serial Alpha Beta Pruning"
      ],
      "metadata": {
        "id": "vuSSY2IGhwZH"
      }
    },
    {
      "cell_type": "code",
      "source": [
        "def getPossibleMoves(board):\n",
        "  possible_moves = []\n",
        "  for i in range(3):\n",
        "    for j in range(3):\n",
        "      if board[i][j] == '_':\n",
        "            possible_moves.append((i, j))\n",
        "  return possible_moves\n"
      ],
      "metadata": {
        "id": "3zQIqsdfn_5W"
      },
      "execution_count": null,
      "outputs": []
    },
    {
      "cell_type": "code",
      "source": [
        "def minimax_pruning_parallel(board, depth, isMax, alpha, beta, move):\n",
        "  i, j = move\n",
        "\n",
        "  # Apply the move to the board\n",
        "  if isMax:\n",
        "    board[i][j] = player\n",
        "  else:\n",
        "    board[i][j] = opponent\n",
        "\n",
        "  # Call the minimax function to evaluate the board after making the move\n",
        "  moveValue = minimax_pruning(board, depth + 1, not isMax, alpha, beta)\n",
        "  board[i][j] = '_'\n",
        "\n",
        "  return moveValue, (i, j)\n",
        "\n"
      ],
      "metadata": {
        "id": "yDxi3apkh9gW"
      },
      "execution_count": null,
      "outputs": []
    },
    {
      "cell_type": "code",
      "source": [
        "from concurrent.futures import ThreadPoolExecutor\n",
        "\n",
        "def findBestMoveParallel(board):\n",
        "    best = -1000\n",
        "    bestMove = None\n",
        "    alpha = -1000\n",
        "    beta = 1000\n",
        "\n",
        "    possibleMoves = getPossibleMoves(board)\n",
        "    with ThreadPoolExecutor(max_workers=2) as executor:\n",
        "        futures = []\n",
        "        for move in possibleMoves:\n",
        "            # Submit the function and its arguments to the executor\n",
        "            future = executor.submit(minimax_pruning_parallel, board, 0, False, alpha, beta, move)\n",
        "            futures.append(future)\n",
        "\n",
        "        for future in futures:\n",
        "            moveValue, move = future.result()  # Assume that result returns a tuple (moveValue, move)\n",
        "            if moveValue > best:\n",
        "                bestMove = move\n",
        "                best = moveValue\n",
        "                alpha = max(alpha, best)\n",
        "\n",
        "    print(\"The value of the best move is: \", best)\n",
        "    return bestMove\n"
      ],
      "metadata": {
        "id": "q4KIMOLeobrE"
      },
      "execution_count": null,
      "outputs": []
    },
    {
      "cell_type": "code",
      "source": [
        "import time\n",
        "\n",
        "def playGameParallel():\n",
        "  board = [['_', 'x', 'x'],\n",
        "           ['_', 'x', 'o'],\n",
        "           ['o', '_', 'o']\n",
        "          ];\n",
        "\n",
        "  start_time = time.time();\n",
        "  bestMove = findBestMoveParallel(board)\n",
        "  end_time = time.time();\n",
        "  print(\"The optimal move in parallel version is: \")\n",
        "  printBestMove(bestMove)\n",
        "  print(f\"Number of nodes traversed in parallel: {node_count_parallel}\")\n",
        "  time_taken = end_time - start_time\n",
        "  print(f\"The parallel operation took {time_taken} seconds.\")\n",
        "#main code\n",
        "playGameParallel()"
      ],
      "metadata": {
        "colab": {
          "base_uri": "https://localhost:8080/"
        },
        "id": "jd-3iy6aUdqo",
        "outputId": "5a155f1a-cfeb-4ca4-e6a8-2a9898f2dac3"
      },
      "execution_count": null,
      "outputs": [
        {
          "output_type": "stream",
          "name": "stdout",
          "text": [
            "The value of the best move is:  8\n",
            "The optimal move in parallel version is: \n",
            "Row: 0, Column: 0\n",
            "Number of nodes traversed in parallel: 3\n",
            "The parallel operation took 0.0029392242431640625 seconds.\n"
          ]
        }
      ]
    },
    {
      "cell_type": "markdown",
      "source": [
        "|                        | Parallelized Alpha-Beta Pruning | Run1 | Run2  | Run3  | Average | Serial Alpha-Beta Pruning | Run1 | Run2  | Run3  | Average |\n",
        "|------------------------|---------------------------------|------|-------|-------|---------|---------------------------|------|-------|-------|---------|\n",
        "| No. of nodes evaluated |                                 | 8    | 130   | 3     | 47      |                           | 6    | 81    | 2     | 29.6667 |\n",
        "| Time Taken             |                                 | 0.0013 | 0.0037 | 0.0029 | 0.0026  |                           | 0.0027 | 0.0050 | 0.0025 | 0.0034  |\n"
      ],
      "metadata": {
        "id": "mxy2IMb-dG_4"
      }
    },
    {
      "cell_type": "markdown",
      "source": [
        "### **Part 3**: Enhanced Alpha Beta Pruning with Heuristic"
      ],
      "metadata": {
        "id": "R6L1ZZUTX32k"
      }
    },
    {
      "cell_type": "code",
      "source": [
        "def heuristic(board, player):\n",
        "  score = 0\n",
        "  lines =[#horizontally\n",
        "        [(0, 0), (0, 1), (0, 2)],\n",
        "        [(1, 0), (1, 1), (1, 2)],\n",
        "        [(2, 0), (2, 1), (2, 2)],\n",
        "        #vertically\n",
        "        [(0, 0), (1, 0), (2, 0)],\n",
        "        [(0, 1), (1, 1), (2, 1)],\n",
        "        [(0, 2), (1, 2), (2, 2)],\n",
        "        #diagonally\n",
        "        [(0, 0), (1, 1), (2, 2)],\n",
        "        [(0, 2), (1, 1), (2, 0)]\n",
        "    ];\n",
        "\n",
        "  for line in lines:\n",
        "    lineValues = []\n",
        "    for x, y in line:\n",
        "      value = board[x][y]\n",
        "      lineValues.append(value)\n",
        "      if lineValues.count(player) == 2 and lineValues.count('_') ==1:\n",
        "        score = score + 5\n",
        "      elif lineValues.count(player)==1 and lineValues.count('_')==2:\n",
        "        score= score +1\n",
        "  return score\n"
      ],
      "metadata": {
        "id": "pbfQ5yHEYGZY"
      },
      "execution_count": null,
      "outputs": []
    },
    {
      "cell_type": "code",
      "source": [
        "nodesTraversed_enhanced = 0\n",
        "\n",
        "def enhanced_minimax_pruning(board, depth, isMax, alpha, beta):\n",
        "  score = evaluateVictory(board)\n",
        "\n",
        "  #for non terminal state\n",
        "  if score == 0:\n",
        "    heuristicScore = heuristic(board, player if isMax else opponent)\n",
        "    if isMax:\n",
        "      alpha = max(alpha, heuristicScore)\n",
        "    else:\n",
        "      beta = min(beta, heuristicScore)\n",
        "\n",
        "  if score == 10:\n",
        "    #prefer quicker wins\n",
        "    return score-depth\n",
        "  if score == -10:\n",
        "    #prefer slower losses\n",
        "    return score+depth\n",
        "  if isBoardFull(board):\n",
        "    return 0\n",
        "  global nodesTraversed_enhanced\n",
        "  nodesTraversed_enhanced = nodesTraversed_enhanced + 1\n",
        "\n",
        "  if isMax :\n",
        "    best = -1000\n",
        "    for i in range(3):\n",
        "      for j in range(3):\n",
        "        if (isEmptyCell(board, i, j)):\n",
        "          board[i][j] = player\n",
        "          # player x tries to maximize considering that the opponent plays next\n",
        "          best = max(best, minimax_pruning(board, depth + 1, not isMax, alpha, beta))\n",
        "          alpha =max(alpha, best)\n",
        "          board[i][j] = '_'\n",
        "          #prune the branches if\n",
        "          if beta<=alpha:\n",
        "            break\n",
        "    return best\n",
        "\n",
        "  else:\n",
        "    best = 1000\n",
        "    for i in range(3):\n",
        "      for j in range(3):\n",
        "        if(isEmptyCell(board, i, j)):\n",
        "          board[i][j]=opponent\n",
        "          best = min(best, minimax_pruning(board, depth+1, not isMax, alpha, beta))\n",
        "          beta=min(beta, best)\n",
        "          board[i][j]='_'\n",
        "          if beta<=alpha:\n",
        "            break\n",
        "    return best\n"
      ],
      "metadata": {
        "id": "LCMHRDKTge8d"
      },
      "execution_count": null,
      "outputs": []
    },
    {
      "cell_type": "code",
      "source": [
        "def findBestMoveEnhanced(board):\n",
        "  best = -1000\n",
        "  bestMove = None\n",
        "  alpha = -1000\n",
        "  beta = 1000\n",
        "\n",
        "  for i in range(3):\n",
        "    for j in range(3):\n",
        "      if(isEmptyCell(board,i, j)):\n",
        "        board[i][j]=player\n",
        "        move_value=enhanced_minimax_pruning(board, 0, False, alpha, beta)\n",
        "        board[i][j]='_'\n",
        "        if move_value > best:\n",
        "          best = move_value\n",
        "          bestMove = (i, j)\n",
        "          alpha = max(alpha, best)\n",
        "  print(\"The value of the best move is: \", best)\n",
        "  print()\n",
        "  return bestMove\n"
      ],
      "metadata": {
        "id": "HFAGZsSFsOrm"
      },
      "execution_count": null,
      "outputs": []
    },
    {
      "cell_type": "code",
      "source": [
        "def playGameEnhanced():\n",
        "  board = [['_', 'x', 'x'],\n",
        "           ['_', 'x', 'o'],\n",
        "           ['o', '_', 'o']\n",
        "          ];\n",
        "  bestMove = findBestMoveEnhanced(board)\n",
        "  print(\"The enhanced optimal move is: \")\n",
        "  printBestMove(bestMove)\n",
        "  print(f\"Number of nodes traversed (enhanced): {nodesTraversed_enhanced}\")\n",
        "\n",
        "#main code\n",
        "playGameEnhanced()"
      ],
      "metadata": {
        "colab": {
          "base_uri": "https://localhost:8080/"
        },
        "id": "GTz56qHMsiyN",
        "outputId": "9682854e-3d86-4ca4-d91e-9c40cd0989e6"
      },
      "execution_count": null,
      "outputs": [
        {
          "output_type": "stream",
          "name": "stdout",
          "text": [
            "The value of the best move is:  10\n",
            "\n",
            "The enhanced optimal move is: \n",
            "Row: 0, Column: 0\n",
            "Number of nodes traversed (enhanced): 1\n"
          ]
        }
      ]
    },
    {
      "cell_type": "markdown",
      "source": [
        "| No. of nodes evaluated |Alpha-Beta Pruning |      |      |         | Enhanced Alpha-Beta Pruning |      |      |         |\n",
        "|------------------------|----------------------------|------|------|---------|-------------------------|------|------|---------|\n",
        "|| Run1 | Run2 | Run3 | Average | Run1| Run2 | Run3 | Average |\n",
        "||||||||||\n",
        "|Number of Nodes Evaluated| 6                        |  81 | 3   | 30   | 2                       |  5  |   1 |   2.67    |\n"
      ],
      "metadata": {
        "id": "GJhKB3bwt-av"
      }
    },
    {
      "cell_type": "markdown",
      "source": [
        "### **Part 4**: AI as a Weak Player"
      ],
      "metadata": {
        "id": "Hjb3fkxj3Qdo"
      }
    },
    {
      "cell_type": "code",
      "source": [
        "def weak_heuristic(board):\n",
        "  score =0\n",
        "  if board[1][1]=='x':\n",
        "    score = score+2\n",
        "  else:\n",
        "    for i in range(3):\n",
        "      for j in range(3):\n",
        "        if board[i][j] == 'x':\n",
        "          score = score + 1\n",
        "  return score\n",
        "\n",
        "def update_board(board, move, player):\n",
        "  # the board with the move applied, to evaluate the heuristic\n",
        "  new_board = [row[:] for row in board]\n",
        "  new_board[move[0]][move[1]] = player\n",
        "  return new_board"
      ],
      "metadata": {
        "id": "oFA_O8jx3XhF"
      },
      "execution_count": null,
      "outputs": []
    },
    {
      "cell_type": "code",
      "source": [
        "import random\n",
        "\n",
        "unusableTile = (random.randint(0,2), random.randint(0,2));\n",
        "\n",
        "def weak_ai(board, unusableTile):\n",
        "  possibleMoves = getPossibleMoves(board)\n",
        "  if not possibleMoves:\n",
        "    return None\n",
        "\n",
        "  move_scores = {}\n",
        "  for move in possibleMoves:\n",
        "    new_board = update_board(board, move, opponent)\n",
        "    move_score = weak_heuristic(new_board)\n",
        "    move_scores[move] = move_score\n",
        "\n",
        "  sorted_moves = sorted(move_scores, key=move_scores.get, reverse=True)\n",
        "\n",
        "    # Choose one of the top half scoring moves randomly\n",
        "  top_half_moves = sorted_moves[:len(sorted_moves)//2 + 1]\n",
        "  chosen_move = random.choice(top_half_moves) if top_half_moves else random.choice(possibleMoves)\n",
        "\n",
        "  return chosen_move\n"
      ],
      "metadata": {
        "id": "oCIH8VkE5ktm"
      },
      "execution_count": null,
      "outputs": []
    },
    {
      "cell_type": "code",
      "source": [
        "def findWeakMove(board):\n",
        "  board = [['_', 'x', 'x'],\n",
        "           ['_', 'x', 'o'],\n",
        "           ['o', '_', 'o']\n",
        "          ];\n",
        "  unusableTile = (random.randint(0,2), random.randint(0,2));\n",
        "  bestMove = weak_ai(board, unusableTile)\n",
        "  print(\"The weak AI moves to:\")\n",
        "  print(\"ROW:\", bestMove[0], \" COL:\", bestMove[1])\n",
        "  return bestMove\n",
        "\n",
        "bestMove = findWeakMove(board)"
      ],
      "metadata": {
        "colab": {
          "base_uri": "https://localhost:8080/"
        },
        "id": "_hTYcwxD-Vvm",
        "outputId": "2d44f92b-27ff-4b1b-ae0e-ab3fe6e03221"
      },
      "execution_count": null,
      "outputs": [
        {
          "output_type": "stream",
          "name": "stdout",
          "text": [
            "The weak AI moves to:\n",
            "ROW: 1  COL: 0\n"
          ]
        }
      ]
    }
  ]
}